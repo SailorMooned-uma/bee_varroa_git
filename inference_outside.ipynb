{
 "cells": [
  {
   "cell_type": "code",
   "execution_count": 9,
   "id": "initial_id",
   "metadata": {
    "collapsed": true,
    "ExecuteTime": {
     "end_time": "2024-04-21T23:17:11.369025500Z",
     "start_time": "2024-04-21T23:17:11.366434400Z"
    }
   },
   "outputs": [],
   "source": [
    "import mmcv"
   ]
  },
  {
   "cell_type": "code",
   "execution_count": 10,
   "outputs": [],
   "source": [
    "#!pip install torch==2.0.0 torchvision==0.15.1 ya lo hice 3:15"
   ],
   "metadata": {
    "collapsed": false,
    "ExecuteTime": {
     "end_time": "2024-04-21T23:17:12.994218700Z",
     "start_time": "2024-04-21T23:17:12.990700200Z"
    }
   },
   "id": "a8f35dcc365bdfe9"
  },
  {
   "cell_type": "code",
   "execution_count": 11,
   "outputs": [
    {
     "data": {
      "text/plain": "'1.5.0'"
     },
     "execution_count": 11,
     "metadata": {},
     "output_type": "execute_result"
    }
   ],
   "source": [
    "mmcv.__version__ #no correr 1.4.5"
   ],
   "metadata": {
    "collapsed": false,
    "ExecuteTime": {
     "end_time": "2024-04-21T23:17:14.605843Z",
     "start_time": "2024-04-21T23:17:14.601348500Z"
    }
   },
   "id": "79434527f76bf63e"
  },
  {
   "cell_type": "code",
   "execution_count": 12,
   "outputs": [
    {
     "data": {
      "text/plain": "'1.5.0'"
     },
     "execution_count": 12,
     "metadata": {},
     "output_type": "execute_result"
    }
   ],
   "source": [
    "mmcv.__version__"
   ],
   "metadata": {
    "collapsed": false,
    "ExecuteTime": {
     "end_time": "2024-04-21T23:17:16.671650900Z",
     "start_time": "2024-04-21T23:17:16.667895Z"
    }
   },
   "id": "75e1ad34fcfe42e2"
  },
  {
   "cell_type": "code",
   "execution_count": 13,
   "outputs": [],
   "source": [
    "import mmcls"
   ],
   "metadata": {
    "collapsed": false,
    "ExecuteTime": {
     "end_time": "2024-04-21T23:17:18.340758800Z",
     "start_time": "2024-04-21T23:17:18.335759700Z"
    }
   },
   "id": "cca886342fc521eb"
  },
  {
   "cell_type": "code",
   "execution_count": 14,
   "outputs": [
    {
     "data": {
      "text/plain": "'0.20.1'"
     },
     "execution_count": 14,
     "metadata": {},
     "output_type": "execute_result"
    }
   ],
   "source": [
    "mmcls.__version__"
   ],
   "metadata": {
    "collapsed": false,
    "ExecuteTime": {
     "end_time": "2024-04-21T23:17:21.817909800Z",
     "start_time": "2024-04-21T23:17:21.810868600Z"
    }
   },
   "id": "43ced1e886eef607"
  },
  {
   "cell_type": "code",
   "execution_count": 6,
   "outputs": [],
   "source": [
    "config_file = \"C:/Users/angel/Documents/varroa_bee/ConvNeXt/checkpoints/data/config.py\"\n",
    "checkpoint_file = \"C:/Users/angel/Documents/varroa_bee/ConvNeXt/checkpoints/data/best_aAcc_epoch_41.pth\"\n",
    "\n",
    "device = \"cuda:0\""
   ],
   "metadata": {
    "collapsed": false,
    "ExecuteTime": {
     "end_time": "2024-04-21T21:57:55.365009200Z",
     "start_time": "2024-04-21T21:57:55.358009Z"
    }
   },
   "id": "6249cbd7023973ab"
  },
  {
   "cell_type": "code",
   "execution_count": 7,
   "outputs": [
    {
     "name": "stderr",
     "output_type": "stream",
     "text": [
      "C:\\Users\\angel\\.conda\\envs\\varroa_bee\\Lib\\site-packages\\mmcv\\cnn\\bricks\\transformer.py:33: UserWarning: Fail to import ``MultiScaleDeformableAttention`` from ``mmcv.ops.multi_scale_deform_attn``, You should install ``mmcv-full`` if you need this module. \n",
      "  warnings.warn('Fail to import ``MultiScaleDeformableAttention`` from '\n"
     ]
    }
   ],
   "source": [
    "from mmcls.apis import init_model, inference_model"
   ],
   "metadata": {
    "collapsed": false,
    "ExecuteTime": {
     "end_time": "2024-04-21T21:57:57.423380100Z",
     "start_time": "2024-04-21T21:57:56.453599200Z"
    }
   },
   "id": "a47fe03b6f6bb08d"
  },
  {
   "cell_type": "code",
   "execution_count": 8,
   "outputs": [
    {
     "ename": "KeyError",
     "evalue": "'EncoderDecoder is not in the models registry'",
     "output_type": "error",
     "traceback": [
      "\u001B[1;31m---------------------------------------------------------------------------\u001B[0m",
      "\u001B[1;31mKeyError\u001B[0m                                  Traceback (most recent call last)",
      "Cell \u001B[1;32mIn[8], line 1\u001B[0m\n\u001B[1;32m----> 1\u001B[0m model \u001B[38;5;241m=\u001B[39m init_model(config_file, checkpoint_file, device\u001B[38;5;241m=\u001B[39mdevice)\n",
      "File \u001B[1;32m~\\.conda\\envs\\varroa_bee\\Lib\\site-packages\\mmcls\\apis\\inference.py:35\u001B[0m, in \u001B[0;36minit_model\u001B[1;34m(config, checkpoint, device, options)\u001B[0m\n\u001B[0;32m     33\u001B[0m     config\u001B[38;5;241m.\u001B[39mmerge_from_dict(options)\n\u001B[0;32m     34\u001B[0m config\u001B[38;5;241m.\u001B[39mmodel\u001B[38;5;241m.\u001B[39mpretrained \u001B[38;5;241m=\u001B[39m \u001B[38;5;28;01mNone\u001B[39;00m\n\u001B[1;32m---> 35\u001B[0m model \u001B[38;5;241m=\u001B[39m build_classifier(config\u001B[38;5;241m.\u001B[39mmodel)\n\u001B[0;32m     36\u001B[0m \u001B[38;5;28;01mif\u001B[39;00m checkpoint \u001B[38;5;129;01mis\u001B[39;00m \u001B[38;5;129;01mnot\u001B[39;00m \u001B[38;5;28;01mNone\u001B[39;00m:\n\u001B[0;32m     37\u001B[0m     \u001B[38;5;66;03m# Mapping the weights to GPU may cause unexpected video memory leak\u001B[39;00m\n\u001B[0;32m     38\u001B[0m     \u001B[38;5;66;03m# which refers to https://github.com/open-mmlab/mmdetection/pull/6405\u001B[39;00m\n\u001B[0;32m     39\u001B[0m     checkpoint \u001B[38;5;241m=\u001B[39m load_checkpoint(model, checkpoint, map_location\u001B[38;5;241m=\u001B[39m\u001B[38;5;124m'\u001B[39m\u001B[38;5;124mcpu\u001B[39m\u001B[38;5;124m'\u001B[39m)\n",
      "File \u001B[1;32m~\\.conda\\envs\\varroa_bee\\Lib\\site-packages\\mmcls\\models\\builder.py:38\u001B[0m, in \u001B[0;36mbuild_classifier\u001B[1;34m(cfg)\u001B[0m\n\u001B[0;32m     37\u001B[0m \u001B[38;5;28;01mdef\u001B[39;00m \u001B[38;5;21mbuild_classifier\u001B[39m(cfg):\n\u001B[1;32m---> 38\u001B[0m     \u001B[38;5;28;01mreturn\u001B[39;00m CLASSIFIERS\u001B[38;5;241m.\u001B[39mbuild(cfg)\n",
      "File \u001B[1;32m~\\.conda\\envs\\varroa_bee\\Lib\\site-packages\\mmcv\\utils\\registry.py:215\u001B[0m, in \u001B[0;36mRegistry.build\u001B[1;34m(self, *args, **kwargs)\u001B[0m\n\u001B[0;32m    214\u001B[0m \u001B[38;5;28;01mdef\u001B[39;00m \u001B[38;5;21mbuild\u001B[39m(\u001B[38;5;28mself\u001B[39m, \u001B[38;5;241m*\u001B[39margs, \u001B[38;5;241m*\u001B[39m\u001B[38;5;241m*\u001B[39mkwargs):\n\u001B[1;32m--> 215\u001B[0m     \u001B[38;5;28;01mreturn\u001B[39;00m \u001B[38;5;28mself\u001B[39m\u001B[38;5;241m.\u001B[39mbuild_func(\u001B[38;5;241m*\u001B[39margs, \u001B[38;5;241m*\u001B[39m\u001B[38;5;241m*\u001B[39mkwargs, registry\u001B[38;5;241m=\u001B[39m\u001B[38;5;28mself\u001B[39m)\n",
      "File \u001B[1;32m~\\.conda\\envs\\varroa_bee\\Lib\\site-packages\\mmcv\\cnn\\builder.py:27\u001B[0m, in \u001B[0;36mbuild_model_from_cfg\u001B[1;34m(cfg, registry, default_args)\u001B[0m\n\u001B[0;32m     25\u001B[0m     \u001B[38;5;28;01mreturn\u001B[39;00m Sequential(\u001B[38;5;241m*\u001B[39mmodules)\n\u001B[0;32m     26\u001B[0m \u001B[38;5;28;01melse\u001B[39;00m:\n\u001B[1;32m---> 27\u001B[0m     \u001B[38;5;28;01mreturn\u001B[39;00m build_from_cfg(cfg, registry, default_args)\n",
      "File \u001B[1;32m~\\.conda\\envs\\varroa_bee\\Lib\\site-packages\\mmcv\\utils\\registry.py:44\u001B[0m, in \u001B[0;36mbuild_from_cfg\u001B[1;34m(cfg, registry, default_args)\u001B[0m\n\u001B[0;32m     42\u001B[0m     obj_cls \u001B[38;5;241m=\u001B[39m registry\u001B[38;5;241m.\u001B[39mget(obj_type)\n\u001B[0;32m     43\u001B[0m     \u001B[38;5;28;01mif\u001B[39;00m obj_cls \u001B[38;5;129;01mis\u001B[39;00m \u001B[38;5;28;01mNone\u001B[39;00m:\n\u001B[1;32m---> 44\u001B[0m         \u001B[38;5;28;01mraise\u001B[39;00m \u001B[38;5;167;01mKeyError\u001B[39;00m(\n\u001B[0;32m     45\u001B[0m             \u001B[38;5;124mf\u001B[39m\u001B[38;5;124m'\u001B[39m\u001B[38;5;132;01m{\u001B[39;00mobj_type\u001B[38;5;132;01m}\u001B[39;00m\u001B[38;5;124m is not in the \u001B[39m\u001B[38;5;132;01m{\u001B[39;00mregistry\u001B[38;5;241m.\u001B[39mname\u001B[38;5;132;01m}\u001B[39;00m\u001B[38;5;124m registry\u001B[39m\u001B[38;5;124m'\u001B[39m)\n\u001B[0;32m     46\u001B[0m \u001B[38;5;28;01melif\u001B[39;00m inspect\u001B[38;5;241m.\u001B[39misclass(obj_type):\n\u001B[0;32m     47\u001B[0m     obj_cls \u001B[38;5;241m=\u001B[39m obj_type\n",
      "\u001B[1;31mKeyError\u001B[0m: 'EncoderDecoder is not in the models registry'"
     ]
    }
   ],
   "source": [
    "model = init_model(config_file, checkpoint_file, device=device)"
   ],
   "metadata": {
    "collapsed": false,
    "ExecuteTime": {
     "end_time": "2024-04-21T21:57:59.405485400Z",
     "start_time": "2024-04-21T21:57:59.005236900Z"
    }
   },
   "id": "b88cc2404c8f0f13"
  },
  {
   "cell_type": "code",
   "execution_count": null,
   "outputs": [],
   "source": [],
   "metadata": {
    "collapsed": false
   },
   "id": "6b4921de5ca01808"
  },
  {
   "cell_type": "code",
   "execution_count": null,
   "outputs": [],
   "source": [],
   "metadata": {
    "collapsed": false
   },
   "id": "c498aed9461efa6b"
  }
 ],
 "metadata": {
  "kernelspec": {
   "display_name": "Python 3",
   "language": "python",
   "name": "python3"
  },
  "language_info": {
   "codemirror_mode": {
    "name": "ipython",
    "version": 2
   },
   "file_extension": ".py",
   "mimetype": "text/x-python",
   "name": "python",
   "nbconvert_exporter": "python",
   "pygments_lexer": "ipython2",
   "version": "2.7.6"
  }
 },
 "nbformat": 4,
 "nbformat_minor": 5
}
