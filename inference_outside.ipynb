{
 "cells": [
  {
   "cell_type": "code",
   "execution_count": 1,
   "id": "initial_id",
   "metadata": {
    "collapsed": true,
    "ExecuteTime": {
     "end_time": "2024-04-22T03:38:30.674046700Z",
     "start_time": "2024-04-22T03:38:28.329333100Z"
    }
   },
   "outputs": [],
   "source": [
    "import mmcv"
   ]
  },
  {
   "cell_type": "code",
   "execution_count": 2,
   "outputs": [],
   "source": [
    "#!pip install torch==2.0.0 torchvision==0.15.1 ya lo hice 3:15"
   ],
   "metadata": {
    "collapsed": false,
    "ExecuteTime": {
     "end_time": "2024-04-22T03:38:30.681468500Z",
     "start_time": "2024-04-22T03:38:30.675047800Z"
    }
   },
   "id": "a8f35dcc365bdfe9"
  },
  {
   "cell_type": "code",
   "execution_count": 3,
   "outputs": [
    {
     "data": {
      "text/plain": "'2.1.0'"
     },
     "execution_count": 3,
     "metadata": {},
     "output_type": "execute_result"
    }
   ],
   "source": [
    "mmcv.__version__ #no correr 1.4.5"
   ],
   "metadata": {
    "collapsed": false,
    "ExecuteTime": {
     "end_time": "2024-04-22T03:38:30.724468600Z",
     "start_time": "2024-04-22T03:38:30.679469700Z"
    }
   },
   "id": "79434527f76bf63e"
  },
  {
   "cell_type": "code",
   "execution_count": 4,
   "outputs": [
    {
     "data": {
      "text/plain": "'2.1.0'"
     },
     "execution_count": 4,
     "metadata": {},
     "output_type": "execute_result"
    }
   ],
   "source": [
    "mmcv.__version__"
   ],
   "metadata": {
    "collapsed": false,
    "ExecuteTime": {
     "end_time": "2024-04-22T03:38:32.369132500Z",
     "start_time": "2024-04-22T03:38:32.365359900Z"
    }
   },
   "id": "75e1ad34fcfe42e2"
  },
  {
   "cell_type": "code",
   "execution_count": 5,
   "outputs": [
    {
     "ename": "AssertionError",
     "evalue": "MMCV==2.1.0 is used but incompatible. Please install mmcv>=2.0.0rc4, <2.1.0.",
     "output_type": "error",
     "traceback": [
      "\u001B[1;31m---------------------------------------------------------------------------\u001B[0m",
      "\u001B[1;31mAssertionError\u001B[0m                            Traceback (most recent call last)",
      "Cell \u001B[1;32mIn[5], line 1\u001B[0m\n\u001B[1;32m----> 1\u001B[0m \u001B[38;5;28;01mimport\u001B[39;00m \u001B[38;5;21;01mmmcls\u001B[39;00m\n",
      "File \u001B[1;32m~\\.conda\\envs\\varroa_bee\\Lib\\site-packages\\mmcls\\__init__.py:17\u001B[0m\n\u001B[0;32m     14\u001B[0m mmengine_maximum_version \u001B[38;5;241m=\u001B[39m \u001B[38;5;124m'\u001B[39m\u001B[38;5;124m1.0.0\u001B[39m\u001B[38;5;124m'\u001B[39m\n\u001B[0;32m     15\u001B[0m mmengine_version \u001B[38;5;241m=\u001B[39m digit_version(mmengine\u001B[38;5;241m.\u001B[39m__version__)\n\u001B[1;32m---> 17\u001B[0m \u001B[38;5;28;01massert\u001B[39;00m (mmcv_version \u001B[38;5;241m>\u001B[39m\u001B[38;5;241m=\u001B[39m digit_version(mmcv_minimum_version)\n\u001B[0;32m     18\u001B[0m         \u001B[38;5;129;01mand\u001B[39;00m mmcv_version \u001B[38;5;241m<\u001B[39m digit_version(mmcv_maximum_version)), \\\n\u001B[0;32m     19\u001B[0m     \u001B[38;5;124mf\u001B[39m\u001B[38;5;124m'\u001B[39m\u001B[38;5;124mMMCV==\u001B[39m\u001B[38;5;132;01m{\u001B[39;00mmmcv\u001B[38;5;241m.\u001B[39m__version__\u001B[38;5;132;01m}\u001B[39;00m\u001B[38;5;124m is used but incompatible. \u001B[39m\u001B[38;5;124m'\u001B[39m \\\n\u001B[0;32m     20\u001B[0m     \u001B[38;5;124mf\u001B[39m\u001B[38;5;124m'\u001B[39m\u001B[38;5;124mPlease install mmcv>=\u001B[39m\u001B[38;5;132;01m{\u001B[39;00mmmcv_minimum_version\u001B[38;5;132;01m}\u001B[39;00m\u001B[38;5;124m, <\u001B[39m\u001B[38;5;132;01m{\u001B[39;00mmmcv_maximum_version\u001B[38;5;132;01m}\u001B[39;00m\u001B[38;5;124m.\u001B[39m\u001B[38;5;124m'\u001B[39m\n\u001B[0;32m     22\u001B[0m \u001B[38;5;28;01massert\u001B[39;00m (mmengine_version \u001B[38;5;241m>\u001B[39m\u001B[38;5;241m=\u001B[39m digit_version(mmengine_minimum_version)\n\u001B[0;32m     23\u001B[0m         \u001B[38;5;129;01mand\u001B[39;00m mmengine_version \u001B[38;5;241m<\u001B[39m digit_version(mmengine_maximum_version)), \\\n\u001B[0;32m     24\u001B[0m     \u001B[38;5;124mf\u001B[39m\u001B[38;5;124m'\u001B[39m\u001B[38;5;124mMMEngine==\u001B[39m\u001B[38;5;132;01m{\u001B[39;00mmmengine\u001B[38;5;241m.\u001B[39m__version__\u001B[38;5;132;01m}\u001B[39;00m\u001B[38;5;124m is used but incompatible. \u001B[39m\u001B[38;5;124m'\u001B[39m \\\n\u001B[0;32m     25\u001B[0m     \u001B[38;5;124mf\u001B[39m\u001B[38;5;124m'\u001B[39m\u001B[38;5;124mPlease install mmengine>=\u001B[39m\u001B[38;5;132;01m{\u001B[39;00mmmengine_minimum_version\u001B[38;5;132;01m}\u001B[39;00m\u001B[38;5;124m, \u001B[39m\u001B[38;5;124m'\u001B[39m \\\n\u001B[0;32m     26\u001B[0m     \u001B[38;5;124mf\u001B[39m\u001B[38;5;124m'\u001B[39m\u001B[38;5;124m<\u001B[39m\u001B[38;5;132;01m{\u001B[39;00mmmengine_maximum_version\u001B[38;5;132;01m}\u001B[39;00m\u001B[38;5;124m.\u001B[39m\u001B[38;5;124m'\u001B[39m\n\u001B[0;32m     28\u001B[0m __all__ \u001B[38;5;241m=\u001B[39m [\u001B[38;5;124m'\u001B[39m\u001B[38;5;124m__version__\u001B[39m\u001B[38;5;124m'\u001B[39m]\n",
      "\u001B[1;31mAssertionError\u001B[0m: MMCV==2.1.0 is used but incompatible. Please install mmcv>=2.0.0rc4, <2.1.0."
     ]
    }
   ],
   "source": [
    "import mmcls"
   ],
   "metadata": {
    "collapsed": false,
    "ExecuteTime": {
     "end_time": "2024-04-22T03:38:34.423436Z",
     "start_time": "2024-04-22T03:38:33.365693600Z"
    }
   },
   "id": "cca886342fc521eb"
  },
  {
   "cell_type": "code",
   "execution_count": 24,
   "outputs": [
    {
     "data": {
      "text/plain": "'0.20.1'"
     },
     "execution_count": 24,
     "metadata": {},
     "output_type": "execute_result"
    }
   ],
   "source": [
    "mmcls.__version__"
   ],
   "metadata": {
    "collapsed": false,
    "ExecuteTime": {
     "end_time": "2024-04-22T03:34:14.087588500Z",
     "start_time": "2024-04-22T03:34:14.082067500Z"
    }
   },
   "id": "43ced1e886eef607"
  },
  {
   "cell_type": "code",
   "execution_count": 25,
   "outputs": [],
   "source": [
    "#config_file = \"C:/Users/angel/Documents/varroa_bee/bee_varroa_git/U-Net/checkpoints/data/config.py\"\n",
    "#checkpoint_file = \"C:/Users/angel/Documents/varroa_bee/bee_varroa_git/U-Net/checkpoints/data/latest.pth\"\n",
    "\n",
    "config_file = \"C:/Users/angel/Documents/varroa_bee/bee_varroa_git/ConvNeXt/checkpoints/data/config.py\"\n",
    "checkpoint_file = \"C:/Users/angel/Documents/varroa_bee/bee_varroa_git/ConvNeXt/checkpoints/data/best_aAcc_epoch_41.pth\"\n",
    "\n",
    "device = \"cuda:0\""
   ],
   "metadata": {
    "collapsed": false,
    "ExecuteTime": {
     "end_time": "2024-04-22T03:34:14.550620500Z",
     "start_time": "2024-04-22T03:34:14.544275600Z"
    }
   },
   "id": "6249cbd7023973ab"
  },
  {
   "cell_type": "code",
   "execution_count": 26,
   "outputs": [
    {
     "ename": "AssertionError",
     "evalue": "MMCV==1.5.0 is used but incompatible. Please install mmcv>=2.0.0rc4, <2.2.0.",
     "output_type": "error",
     "traceback": [
      "\u001B[1;31m---------------------------------------------------------------------------\u001B[0m",
      "\u001B[1;31mAssertionError\u001B[0m                            Traceback (most recent call last)",
      "Cell \u001B[1;32mIn[26], line 2\u001B[0m\n\u001B[0;32m      1\u001B[0m \u001B[38;5;28;01mfrom\u001B[39;00m \u001B[38;5;21;01mmmcls\u001B[39;00m\u001B[38;5;21;01m.\u001B[39;00m\u001B[38;5;21;01mapis\u001B[39;00m \u001B[38;5;28;01mimport\u001B[39;00m init_model, inference_model\n\u001B[1;32m----> 2\u001B[0m \u001B[38;5;28;01mfrom\u001B[39;00m \u001B[38;5;21;01mmmdet\u001B[39;00m\u001B[38;5;21;01m.\u001B[39;00m\u001B[38;5;21;01mutils\u001B[39;00m \u001B[38;5;28;01mimport\u001B[39;00m register_all_modules\n\u001B[0;32m      3\u001B[0m register_all_modules()\n",
      "File \u001B[1;32m~\\.conda\\envs\\varroa_bee\\Lib\\site-packages\\mmdet\\__init__.py:16\u001B[0m\n\u001B[0;32m     13\u001B[0m mmengine_maximum_version \u001B[38;5;241m=\u001B[39m \u001B[38;5;124m'\u001B[39m\u001B[38;5;124m1.0.0\u001B[39m\u001B[38;5;124m'\u001B[39m\n\u001B[0;32m     14\u001B[0m mmengine_version \u001B[38;5;241m=\u001B[39m digit_version(mmengine\u001B[38;5;241m.\u001B[39m__version__)\n\u001B[1;32m---> 16\u001B[0m \u001B[38;5;28;01massert\u001B[39;00m (mmcv_version \u001B[38;5;241m>\u001B[39m\u001B[38;5;241m=\u001B[39m digit_version(mmcv_minimum_version)\n\u001B[0;32m     17\u001B[0m         \u001B[38;5;129;01mand\u001B[39;00m mmcv_version \u001B[38;5;241m<\u001B[39m digit_version(mmcv_maximum_version)), \\\n\u001B[0;32m     18\u001B[0m     \u001B[38;5;124mf\u001B[39m\u001B[38;5;124m'\u001B[39m\u001B[38;5;124mMMCV==\u001B[39m\u001B[38;5;132;01m{\u001B[39;00mmmcv\u001B[38;5;241m.\u001B[39m__version__\u001B[38;5;132;01m}\u001B[39;00m\u001B[38;5;124m is used but incompatible. \u001B[39m\u001B[38;5;124m'\u001B[39m \\\n\u001B[0;32m     19\u001B[0m     \u001B[38;5;124mf\u001B[39m\u001B[38;5;124m'\u001B[39m\u001B[38;5;124mPlease install mmcv>=\u001B[39m\u001B[38;5;132;01m{\u001B[39;00mmmcv_minimum_version\u001B[38;5;132;01m}\u001B[39;00m\u001B[38;5;124m, <\u001B[39m\u001B[38;5;132;01m{\u001B[39;00mmmcv_maximum_version\u001B[38;5;132;01m}\u001B[39;00m\u001B[38;5;124m.\u001B[39m\u001B[38;5;124m'\u001B[39m\n\u001B[0;32m     21\u001B[0m \u001B[38;5;28;01massert\u001B[39;00m (mmengine_version \u001B[38;5;241m>\u001B[39m\u001B[38;5;241m=\u001B[39m digit_version(mmengine_minimum_version)\n\u001B[0;32m     22\u001B[0m         \u001B[38;5;129;01mand\u001B[39;00m mmengine_version \u001B[38;5;241m<\u001B[39m digit_version(mmengine_maximum_version)), \\\n\u001B[0;32m     23\u001B[0m     \u001B[38;5;124mf\u001B[39m\u001B[38;5;124m'\u001B[39m\u001B[38;5;124mMMEngine==\u001B[39m\u001B[38;5;132;01m{\u001B[39;00mmmengine\u001B[38;5;241m.\u001B[39m__version__\u001B[38;5;132;01m}\u001B[39;00m\u001B[38;5;124m is used but incompatible. \u001B[39m\u001B[38;5;124m'\u001B[39m \\\n\u001B[0;32m     24\u001B[0m     \u001B[38;5;124mf\u001B[39m\u001B[38;5;124m'\u001B[39m\u001B[38;5;124mPlease install mmengine>=\u001B[39m\u001B[38;5;132;01m{\u001B[39;00mmmengine_minimum_version\u001B[38;5;132;01m}\u001B[39;00m\u001B[38;5;124m, \u001B[39m\u001B[38;5;124m'\u001B[39m \\\n\u001B[0;32m     25\u001B[0m     \u001B[38;5;124mf\u001B[39m\u001B[38;5;124m'\u001B[39m\u001B[38;5;124m<\u001B[39m\u001B[38;5;132;01m{\u001B[39;00mmmengine_maximum_version\u001B[38;5;132;01m}\u001B[39;00m\u001B[38;5;124m.\u001B[39m\u001B[38;5;124m'\u001B[39m\n\u001B[0;32m     27\u001B[0m __all__ \u001B[38;5;241m=\u001B[39m [\u001B[38;5;124m'\u001B[39m\u001B[38;5;124m__version__\u001B[39m\u001B[38;5;124m'\u001B[39m, \u001B[38;5;124m'\u001B[39m\u001B[38;5;124mversion_info\u001B[39m\u001B[38;5;124m'\u001B[39m, \u001B[38;5;124m'\u001B[39m\u001B[38;5;124mdigit_version\u001B[39m\u001B[38;5;124m'\u001B[39m]\n",
      "\u001B[1;31mAssertionError\u001B[0m: MMCV==1.5.0 is used but incompatible. Please install mmcv>=2.0.0rc4, <2.2.0."
     ]
    }
   ],
   "source": [
    "from mmcls.apis import init_model, inference_model\n",
    "from mmdet.utils import register_all_modules\n",
    "register_all_modules()"
   ],
   "metadata": {
    "collapsed": false,
    "ExecuteTime": {
     "end_time": "2024-04-22T03:34:15.361576400Z",
     "start_time": "2024-04-22T03:34:15.339148900Z"
    }
   },
   "id": "a47fe03b6f6bb08d"
  },
  {
   "cell_type": "code",
   "execution_count": 9,
   "outputs": [
    {
     "ename": "KeyError",
     "evalue": "'EncoderDecoder is not in the models registry'",
     "output_type": "error",
     "traceback": [
      "\u001B[1;31m---------------------------------------------------------------------------\u001B[0m",
      "\u001B[1;31mKeyError\u001B[0m                                  Traceback (most recent call last)",
      "Cell \u001B[1;32mIn[9], line 1\u001B[0m\n\u001B[1;32m----> 1\u001B[0m model \u001B[38;5;241m=\u001B[39m init_model(config_file, checkpoint_file, device\u001B[38;5;241m=\u001B[39mdevice)\n",
      "File \u001B[1;32m~\\.conda\\envs\\varroa_bee\\Lib\\site-packages\\mmcls\\apis\\inference.py:35\u001B[0m, in \u001B[0;36minit_model\u001B[1;34m(config, checkpoint, device, options)\u001B[0m\n\u001B[0;32m     33\u001B[0m     config\u001B[38;5;241m.\u001B[39mmerge_from_dict(options)\n\u001B[0;32m     34\u001B[0m config\u001B[38;5;241m.\u001B[39mmodel\u001B[38;5;241m.\u001B[39mpretrained \u001B[38;5;241m=\u001B[39m \u001B[38;5;28;01mNone\u001B[39;00m\n\u001B[1;32m---> 35\u001B[0m model \u001B[38;5;241m=\u001B[39m build_classifier(config\u001B[38;5;241m.\u001B[39mmodel)\n\u001B[0;32m     36\u001B[0m \u001B[38;5;28;01mif\u001B[39;00m checkpoint \u001B[38;5;129;01mis\u001B[39;00m \u001B[38;5;129;01mnot\u001B[39;00m \u001B[38;5;28;01mNone\u001B[39;00m:\n\u001B[0;32m     37\u001B[0m     \u001B[38;5;66;03m# Mapping the weights to GPU may cause unexpected video memory leak\u001B[39;00m\n\u001B[0;32m     38\u001B[0m     \u001B[38;5;66;03m# which refers to https://github.com/open-mmlab/mmdetection/pull/6405\u001B[39;00m\n\u001B[0;32m     39\u001B[0m     checkpoint \u001B[38;5;241m=\u001B[39m load_checkpoint(model, checkpoint, map_location\u001B[38;5;241m=\u001B[39m\u001B[38;5;124m'\u001B[39m\u001B[38;5;124mcpu\u001B[39m\u001B[38;5;124m'\u001B[39m)\n",
      "File \u001B[1;32m~\\.conda\\envs\\varroa_bee\\Lib\\site-packages\\mmcls\\models\\builder.py:38\u001B[0m, in \u001B[0;36mbuild_classifier\u001B[1;34m(cfg)\u001B[0m\n\u001B[0;32m     37\u001B[0m \u001B[38;5;28;01mdef\u001B[39;00m \u001B[38;5;21mbuild_classifier\u001B[39m(cfg):\n\u001B[1;32m---> 38\u001B[0m     \u001B[38;5;28;01mreturn\u001B[39;00m CLASSIFIERS\u001B[38;5;241m.\u001B[39mbuild(cfg)\n",
      "File \u001B[1;32m~\\.conda\\envs\\varroa_bee\\Lib\\site-packages\\mmcv\\utils\\registry.py:215\u001B[0m, in \u001B[0;36mRegistry.build\u001B[1;34m(self, *args, **kwargs)\u001B[0m\n\u001B[0;32m    214\u001B[0m \u001B[38;5;28;01mdef\u001B[39;00m \u001B[38;5;21mbuild\u001B[39m(\u001B[38;5;28mself\u001B[39m, \u001B[38;5;241m*\u001B[39margs, \u001B[38;5;241m*\u001B[39m\u001B[38;5;241m*\u001B[39mkwargs):\n\u001B[1;32m--> 215\u001B[0m     \u001B[38;5;28;01mreturn\u001B[39;00m \u001B[38;5;28mself\u001B[39m\u001B[38;5;241m.\u001B[39mbuild_func(\u001B[38;5;241m*\u001B[39margs, \u001B[38;5;241m*\u001B[39m\u001B[38;5;241m*\u001B[39mkwargs, registry\u001B[38;5;241m=\u001B[39m\u001B[38;5;28mself\u001B[39m)\n",
      "File \u001B[1;32m~\\.conda\\envs\\varroa_bee\\Lib\\site-packages\\mmcv\\cnn\\builder.py:27\u001B[0m, in \u001B[0;36mbuild_model_from_cfg\u001B[1;34m(cfg, registry, default_args)\u001B[0m\n\u001B[0;32m     25\u001B[0m     \u001B[38;5;28;01mreturn\u001B[39;00m Sequential(\u001B[38;5;241m*\u001B[39mmodules)\n\u001B[0;32m     26\u001B[0m \u001B[38;5;28;01melse\u001B[39;00m:\n\u001B[1;32m---> 27\u001B[0m     \u001B[38;5;28;01mreturn\u001B[39;00m build_from_cfg(cfg, registry, default_args)\n",
      "File \u001B[1;32m~\\.conda\\envs\\varroa_bee\\Lib\\site-packages\\mmcv\\utils\\registry.py:44\u001B[0m, in \u001B[0;36mbuild_from_cfg\u001B[1;34m(cfg, registry, default_args)\u001B[0m\n\u001B[0;32m     42\u001B[0m     obj_cls \u001B[38;5;241m=\u001B[39m registry\u001B[38;5;241m.\u001B[39mget(obj_type)\n\u001B[0;32m     43\u001B[0m     \u001B[38;5;28;01mif\u001B[39;00m obj_cls \u001B[38;5;129;01mis\u001B[39;00m \u001B[38;5;28;01mNone\u001B[39;00m:\n\u001B[1;32m---> 44\u001B[0m         \u001B[38;5;28;01mraise\u001B[39;00m \u001B[38;5;167;01mKeyError\u001B[39;00m(\n\u001B[0;32m     45\u001B[0m             \u001B[38;5;124mf\u001B[39m\u001B[38;5;124m'\u001B[39m\u001B[38;5;132;01m{\u001B[39;00mobj_type\u001B[38;5;132;01m}\u001B[39;00m\u001B[38;5;124m is not in the \u001B[39m\u001B[38;5;132;01m{\u001B[39;00mregistry\u001B[38;5;241m.\u001B[39mname\u001B[38;5;132;01m}\u001B[39;00m\u001B[38;5;124m registry\u001B[39m\u001B[38;5;124m'\u001B[39m)\n\u001B[0;32m     46\u001B[0m \u001B[38;5;28;01melif\u001B[39;00m inspect\u001B[38;5;241m.\u001B[39misclass(obj_type):\n\u001B[0;32m     47\u001B[0m     obj_cls \u001B[38;5;241m=\u001B[39m obj_type\n",
      "\u001B[1;31mKeyError\u001B[0m: 'EncoderDecoder is not in the models registry'"
     ]
    }
   ],
   "source": [
    "model = init_model(config_file, checkpoint_file, device=device)"
   ],
   "metadata": {
    "collapsed": false,
    "ExecuteTime": {
     "end_time": "2024-04-22T03:29:43.349682700Z",
     "start_time": "2024-04-22T03:29:42.978780100Z"
    }
   },
   "id": "b88cc2404c8f0f13"
  },
  {
   "cell_type": "code",
   "execution_count": null,
   "outputs": [],
   "source": [],
   "metadata": {
    "collapsed": false
   },
   "id": "6b4921de5ca01808"
  },
  {
   "cell_type": "code",
   "execution_count": null,
   "outputs": [],
   "source": [],
   "metadata": {
    "collapsed": false
   },
   "id": "c498aed9461efa6b"
  }
 ],
 "metadata": {
  "kernelspec": {
   "display_name": "Python 3",
   "language": "python",
   "name": "python3"
  },
  "language_info": {
   "codemirror_mode": {
    "name": "ipython",
    "version": 2
   },
   "file_extension": ".py",
   "mimetype": "text/x-python",
   "name": "python",
   "nbconvert_exporter": "python",
   "pygments_lexer": "ipython2",
   "version": "2.7.6"
  }
 },
 "nbformat": 4,
 "nbformat_minor": 5
}
